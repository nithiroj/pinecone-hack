{
  "nbformat": 4,
  "nbformat_minor": 0,
  "metadata": {
    "colab": {
      "provenance": []
    },
    "kernelspec": {
      "name": "python3",
      "display_name": "Python 3"
    },
    "language_info": {
      "name": "python"
    },
    "widgets": {
      "application/vnd.jupyter.widget-state+json": {
        "be4b23dfb7164345bf05c8e94e64cbe9": {
          "model_module": "@jupyter-widgets/controls",
          "model_name": "HBoxModel",
          "model_module_version": "1.5.0",
          "state": {
            "_dom_classes": [],
            "_model_module": "@jupyter-widgets/controls",
            "_model_module_version": "1.5.0",
            "_model_name": "HBoxModel",
            "_view_count": null,
            "_view_module": "@jupyter-widgets/controls",
            "_view_module_version": "1.5.0",
            "_view_name": "HBoxView",
            "box_style": "",
            "children": [
              "IPY_MODEL_670615f4a6984f68aa19018be98d3393",
              "IPY_MODEL_41f0526d9e074281bd5910205e584a34",
              "IPY_MODEL_2e1425a3d9f744c8bf3a45a205b231ab"
            ],
            "layout": "IPY_MODEL_2e0deaf4adc0414fac484982663cace9"
          }
        },
        "670615f4a6984f68aa19018be98d3393": {
          "model_module": "@jupyter-widgets/controls",
          "model_name": "HTMLModel",
          "model_module_version": "1.5.0",
          "state": {
            "_dom_classes": [],
            "_model_module": "@jupyter-widgets/controls",
            "_model_module_version": "1.5.0",
            "_model_name": "HTMLModel",
            "_view_count": null,
            "_view_module": "@jupyter-widgets/controls",
            "_view_module_version": "1.5.0",
            "_view_name": "HTMLView",
            "description": "",
            "description_tooltip": null,
            "layout": "IPY_MODEL_094ece046bd54cf4af43b2d892f64d8e",
            "placeholder": "​",
            "style": "IPY_MODEL_a8cee3247577416cbf5d5c3ddd65661a",
            "value": "100%"
          }
        },
        "41f0526d9e074281bd5910205e584a34": {
          "model_module": "@jupyter-widgets/controls",
          "model_name": "FloatProgressModel",
          "model_module_version": "1.5.0",
          "state": {
            "_dom_classes": [],
            "_model_module": "@jupyter-widgets/controls",
            "_model_module_version": "1.5.0",
            "_model_name": "FloatProgressModel",
            "_view_count": null,
            "_view_module": "@jupyter-widgets/controls",
            "_view_module_version": "1.5.0",
            "_view_name": "ProgressView",
            "bar_style": "success",
            "description": "",
            "description_tooltip": null,
            "layout": "IPY_MODEL_fa1f6fb7d12645ebb26064bfd155c60c",
            "max": 174,
            "min": 0,
            "orientation": "horizontal",
            "style": "IPY_MODEL_6d1af123fcf24bed95d61827e98a5cbc",
            "value": 174
          }
        },
        "2e1425a3d9f744c8bf3a45a205b231ab": {
          "model_module": "@jupyter-widgets/controls",
          "model_name": "HTMLModel",
          "model_module_version": "1.5.0",
          "state": {
            "_dom_classes": [],
            "_model_module": "@jupyter-widgets/controls",
            "_model_module_version": "1.5.0",
            "_model_name": "HTMLModel",
            "_view_count": null,
            "_view_module": "@jupyter-widgets/controls",
            "_view_module_version": "1.5.0",
            "_view_name": "HTMLView",
            "description": "",
            "description_tooltip": null,
            "layout": "IPY_MODEL_c88e6e476e8f4aedbd0c3e9c61993544",
            "placeholder": "​",
            "style": "IPY_MODEL_0108265360c344a9b8e0b0d9380c98d1",
            "value": " 174/174 [05:26&lt;00:00,  1.67s/it]"
          }
        },
        "2e0deaf4adc0414fac484982663cace9": {
          "model_module": "@jupyter-widgets/base",
          "model_name": "LayoutModel",
          "model_module_version": "1.2.0",
          "state": {
            "_model_module": "@jupyter-widgets/base",
            "_model_module_version": "1.2.0",
            "_model_name": "LayoutModel",
            "_view_count": null,
            "_view_module": "@jupyter-widgets/base",
            "_view_module_version": "1.2.0",
            "_view_name": "LayoutView",
            "align_content": null,
            "align_items": null,
            "align_self": null,
            "border": null,
            "bottom": null,
            "display": null,
            "flex": null,
            "flex_flow": null,
            "grid_area": null,
            "grid_auto_columns": null,
            "grid_auto_flow": null,
            "grid_auto_rows": null,
            "grid_column": null,
            "grid_gap": null,
            "grid_row": null,
            "grid_template_areas": null,
            "grid_template_columns": null,
            "grid_template_rows": null,
            "height": null,
            "justify_content": null,
            "justify_items": null,
            "left": null,
            "margin": null,
            "max_height": null,
            "max_width": null,
            "min_height": null,
            "min_width": null,
            "object_fit": null,
            "object_position": null,
            "order": null,
            "overflow": null,
            "overflow_x": null,
            "overflow_y": null,
            "padding": null,
            "right": null,
            "top": null,
            "visibility": null,
            "width": null
          }
        },
        "094ece046bd54cf4af43b2d892f64d8e": {
          "model_module": "@jupyter-widgets/base",
          "model_name": "LayoutModel",
          "model_module_version": "1.2.0",
          "state": {
            "_model_module": "@jupyter-widgets/base",
            "_model_module_version": "1.2.0",
            "_model_name": "LayoutModel",
            "_view_count": null,
            "_view_module": "@jupyter-widgets/base",
            "_view_module_version": "1.2.0",
            "_view_name": "LayoutView",
            "align_content": null,
            "align_items": null,
            "align_self": null,
            "border": null,
            "bottom": null,
            "display": null,
            "flex": null,
            "flex_flow": null,
            "grid_area": null,
            "grid_auto_columns": null,
            "grid_auto_flow": null,
            "grid_auto_rows": null,
            "grid_column": null,
            "grid_gap": null,
            "grid_row": null,
            "grid_template_areas": null,
            "grid_template_columns": null,
            "grid_template_rows": null,
            "height": null,
            "justify_content": null,
            "justify_items": null,
            "left": null,
            "margin": null,
            "max_height": null,
            "max_width": null,
            "min_height": null,
            "min_width": null,
            "object_fit": null,
            "object_position": null,
            "order": null,
            "overflow": null,
            "overflow_x": null,
            "overflow_y": null,
            "padding": null,
            "right": null,
            "top": null,
            "visibility": null,
            "width": null
          }
        },
        "a8cee3247577416cbf5d5c3ddd65661a": {
          "model_module": "@jupyter-widgets/controls",
          "model_name": "DescriptionStyleModel",
          "model_module_version": "1.5.0",
          "state": {
            "_model_module": "@jupyter-widgets/controls",
            "_model_module_version": "1.5.0",
            "_model_name": "DescriptionStyleModel",
            "_view_count": null,
            "_view_module": "@jupyter-widgets/base",
            "_view_module_version": "1.2.0",
            "_view_name": "StyleView",
            "description_width": ""
          }
        },
        "fa1f6fb7d12645ebb26064bfd155c60c": {
          "model_module": "@jupyter-widgets/base",
          "model_name": "LayoutModel",
          "model_module_version": "1.2.0",
          "state": {
            "_model_module": "@jupyter-widgets/base",
            "_model_module_version": "1.2.0",
            "_model_name": "LayoutModel",
            "_view_count": null,
            "_view_module": "@jupyter-widgets/base",
            "_view_module_version": "1.2.0",
            "_view_name": "LayoutView",
            "align_content": null,
            "align_items": null,
            "align_self": null,
            "border": null,
            "bottom": null,
            "display": null,
            "flex": null,
            "flex_flow": null,
            "grid_area": null,
            "grid_auto_columns": null,
            "grid_auto_flow": null,
            "grid_auto_rows": null,
            "grid_column": null,
            "grid_gap": null,
            "grid_row": null,
            "grid_template_areas": null,
            "grid_template_columns": null,
            "grid_template_rows": null,
            "height": null,
            "justify_content": null,
            "justify_items": null,
            "left": null,
            "margin": null,
            "max_height": null,
            "max_width": null,
            "min_height": null,
            "min_width": null,
            "object_fit": null,
            "object_position": null,
            "order": null,
            "overflow": null,
            "overflow_x": null,
            "overflow_y": null,
            "padding": null,
            "right": null,
            "top": null,
            "visibility": null,
            "width": null
          }
        },
        "6d1af123fcf24bed95d61827e98a5cbc": {
          "model_module": "@jupyter-widgets/controls",
          "model_name": "ProgressStyleModel",
          "model_module_version": "1.5.0",
          "state": {
            "_model_module": "@jupyter-widgets/controls",
            "_model_module_version": "1.5.0",
            "_model_name": "ProgressStyleModel",
            "_view_count": null,
            "_view_module": "@jupyter-widgets/base",
            "_view_module_version": "1.2.0",
            "_view_name": "StyleView",
            "bar_color": null,
            "description_width": ""
          }
        },
        "c88e6e476e8f4aedbd0c3e9c61993544": {
          "model_module": "@jupyter-widgets/base",
          "model_name": "LayoutModel",
          "model_module_version": "1.2.0",
          "state": {
            "_model_module": "@jupyter-widgets/base",
            "_model_module_version": "1.2.0",
            "_model_name": "LayoutModel",
            "_view_count": null,
            "_view_module": "@jupyter-widgets/base",
            "_view_module_version": "1.2.0",
            "_view_name": "LayoutView",
            "align_content": null,
            "align_items": null,
            "align_self": null,
            "border": null,
            "bottom": null,
            "display": null,
            "flex": null,
            "flex_flow": null,
            "grid_area": null,
            "grid_auto_columns": null,
            "grid_auto_flow": null,
            "grid_auto_rows": null,
            "grid_column": null,
            "grid_gap": null,
            "grid_row": null,
            "grid_template_areas": null,
            "grid_template_columns": null,
            "grid_template_rows": null,
            "height": null,
            "justify_content": null,
            "justify_items": null,
            "left": null,
            "margin": null,
            "max_height": null,
            "max_width": null,
            "min_height": null,
            "min_width": null,
            "object_fit": null,
            "object_position": null,
            "order": null,
            "overflow": null,
            "overflow_x": null,
            "overflow_y": null,
            "padding": null,
            "right": null,
            "top": null,
            "visibility": null,
            "width": null
          }
        },
        "0108265360c344a9b8e0b0d9380c98d1": {
          "model_module": "@jupyter-widgets/controls",
          "model_name": "DescriptionStyleModel",
          "model_module_version": "1.5.0",
          "state": {
            "_model_module": "@jupyter-widgets/controls",
            "_model_module_version": "1.5.0",
            "_model_name": "DescriptionStyleModel",
            "_view_count": null,
            "_view_module": "@jupyter-widgets/base",
            "_view_module_version": "1.2.0",
            "_view_name": "StyleView",
            "description_width": ""
          }
        }
      }
    }
  },
  "cells": [
    {
      "cell_type": "code",
      "execution_count": 1,
      "metadata": {
        "colab": {
          "base_uri": "https://localhost:8080/"
        },
        "id": "i1ta-RKN1R0G",
        "outputId": "42fe5c2a-d52c-48c0-f5b0-d1f35903d4da"
      },
      "outputs": [
        {
          "output_type": "stream",
          "name": "stdout",
          "text": [
            "\u001b[2K     \u001b[90m━━━━━━━━━━━━━━━━━━━━━━━━━━━━━━━━━━━━━━━━\u001b[0m \u001b[32m1.1/1.1 MB\u001b[0m \u001b[31m14.9 MB/s\u001b[0m eta \u001b[36m0:00:00\u001b[0m\n",
            "\u001b[2K     \u001b[90m━━━━━━━━━━━━━━━━━━━━━━━━━━━━━━━━━━━━━━━━\u001b[0m \u001b[32m73.6/73.6 kB\u001b[0m \u001b[31m7.3 MB/s\u001b[0m eta \u001b[36m0:00:00\u001b[0m\n",
            "\u001b[2K     \u001b[90m━━━━━━━━━━━━━━━━━━━━━━━━━━━━━━━━━━━━━━━━\u001b[0m \u001b[32m1.7/1.7 MB\u001b[0m \u001b[31m57.1 MB/s\u001b[0m eta \u001b[36m0:00:00\u001b[0m\n",
            "\u001b[2K     \u001b[90m━━━━━━━━━━━━━━━━━━━━━━━━━━━━━━━━━━━━━━\u001b[0m \u001b[32m179.1/179.1 kB\u001b[0m \u001b[31m16.2 MB/s\u001b[0m eta \u001b[36m0:00:00\u001b[0m\n",
            "\u001b[?25h  Preparing metadata (setup.py) ... \u001b[?25l\u001b[?25hdone\n",
            "\u001b[2K     \u001b[90m━━━━━━━━━━━━━━━━━━━━━━━━━━━━━━━━━━━━━━━━\u001b[0m \u001b[32m1.0/1.0 MB\u001b[0m \u001b[31m64.2 MB/s\u001b[0m eta \u001b[36m0:00:00\u001b[0m\n",
            "\u001b[2K     \u001b[90m━━━━━━━━━━━━━━━━━━━━━━━━━━━━━━━━━━━━━━━━\u001b[0m \u001b[32m90.0/90.0 kB\u001b[0m \u001b[31m11.0 MB/s\u001b[0m eta \u001b[36m0:00:00\u001b[0m\n",
            "\u001b[2K     \u001b[90m━━━━━━━━━━━━━━━━━━━━━━━━━━━━━━━━━━━━━━━━\u001b[0m \u001b[32m60.0/60.0 kB\u001b[0m \u001b[31m6.8 MB/s\u001b[0m eta \u001b[36m0:00:00\u001b[0m\n",
            "\u001b[2K     \u001b[90m━━━━━━━━━━━━━━━━━━━━━━━━━━━━━━━━━━━━━━\u001b[0m \u001b[32m283.7/283.7 kB\u001b[0m \u001b[31m20.2 MB/s\u001b[0m eta \u001b[36m0:00:00\u001b[0m\n",
            "\u001b[2K     \u001b[90m━━━━━━━━━━━━━━━━━━━━━━━━━━━━━━━━━━━━━━━━\u001b[0m \u001b[32m1.3/1.3 MB\u001b[0m \u001b[31m60.3 MB/s\u001b[0m eta \u001b[36m0:00:00\u001b[0m\n",
            "\u001b[2K     \u001b[90m━━━━━━━━━━━━━━━━━━━━━━━━━━━━━━━━━━━━━━━━\u001b[0m \u001b[32m1.1/1.1 MB\u001b[0m \u001b[31m49.7 MB/s\u001b[0m eta \u001b[36m0:00:00\u001b[0m\n",
            "\u001b[?25h  Preparing metadata (setup.py) ... \u001b[?25l\u001b[?25hdone\n",
            "\u001b[2K     \u001b[90m━━━━━━━━━━━━━━━━━━━━━━━━━━━━━━━━━━━━━━\u001b[0m \u001b[32m114.5/114.5 kB\u001b[0m \u001b[31m12.3 MB/s\u001b[0m eta \u001b[36m0:00:00\u001b[0m\n",
            "\u001b[2K     \u001b[90m━━━━━━━━━━━━━━━━━━━━━━━━━━━━━━━━━━━━━━\u001b[0m \u001b[32m268.8/268.8 kB\u001b[0m \u001b[31m21.2 MB/s\u001b[0m eta \u001b[36m0:00:00\u001b[0m\n",
            "\u001b[2K     \u001b[90m━━━━━━━━━━━━━━━━━━━━━━━━━━━━━━━━━━━━━━\u001b[0m \u001b[32m149.6/149.6 kB\u001b[0m \u001b[31m17.1 MB/s\u001b[0m eta \u001b[36m0:00:00\u001b[0m\n",
            "\u001b[2K     \u001b[90m━━━━━━━━━━━━━━━━━━━━━━━━━━━━━━━━━━━━━━━━\u001b[0m \u001b[32m49.1/49.1 kB\u001b[0m \u001b[31m5.1 MB/s\u001b[0m eta \u001b[36m0:00:00\u001b[0m\n",
            "\u001b[?25h  Building wheel for bs4 (setup.py) ... \u001b[?25l\u001b[?25hdone\n",
            "  Building wheel for wget (setup.py) ... \u001b[?25l\u001b[?25hdone\n",
            "\u001b[31mERROR: pip's dependency resolver does not currently take into account all the packages that are installed. This behaviour is the source of the following dependency conflicts.\n",
            "tensorflow 2.12.0 requires protobuf!=4.21.0,!=4.21.1,!=4.21.2,!=4.21.3,!=4.21.4,!=4.21.5,<5.0.0dev,>=3.20.3, but you have protobuf 3.19.6 which is incompatible.\n",
            "tensorflow-datasets 4.9.2 requires protobuf>=3.20, but you have protobuf 3.19.6 which is incompatible.\n",
            "tensorflow-metadata 1.13.1 requires protobuf<5,>=3.20.3, but you have protobuf 3.19.6 which is incompatible.\u001b[0m\u001b[31m\n",
            "\u001b[0m"
          ]
        }
      ],
      "source": [
        "!pip install -qU langchain openai tiktoken cohere \\\n",
        "                 \"pinecone-client[grpc]\" pinecone-text \\\n",
        "                  python-dotenv bs4 nest_asyncio \\\n",
        ""
      ]
    },
    {
      "cell_type": "code",
      "source": [
        "# Set project directory.\n",
        "import os, sys\n",
        "proj_dir = '/content/drive/MyDrive/LLM/pinecone-hack'\n",
        "os.chdir(os.path.join(proj_dir))\n",
        "os.path.dirname(os.path.realpath(__name__))"
      ],
      "metadata": {
        "colab": {
          "base_uri": "https://localhost:8080/",
          "height": 36
        },
        "id": "aSvCjfPh2It8",
        "outputId": "98e88cd0-4fb4-4b1a-f3cc-839f82d0d080"
      },
      "execution_count": 2,
      "outputs": [
        {
          "output_type": "execute_result",
          "data": {
            "text/plain": [
              "'/content/drive/MyDrive/LLM/pinecone-hack'"
            ],
            "application/vnd.google.colaboratory.intrinsic+json": {
              "type": "string"
            }
          },
          "metadata": {},
          "execution_count": 2
        }
      ]
    },
    {
      "cell_type": "code",
      "source": [
        "import os\n",
        "from dotenv import load_dotenv\n",
        "\n",
        "# loads environment variables\n",
        "load_dotenv()\n",
        "\n",
        "# initialize connection to pinecone (get API key at app.pinecone.io)\n",
        "PINECONE_API_KEY = os.getenv(\"PINECONE_API_KEY\") or \"PINECONE_API_KEY\"\n",
        "# find your environment next to the api key in pinecone console\n",
        "PINECONE_ENVIRONMENT = os.getenv(\"PINECONE_ENVIRONMENT\") or \"PINECONE_ENVIRONMENT\"\n",
        "\n",
        "COHERE_API_KEY = os.getenv(\"COHERE_API_KEY\") or \"COHERE_API_KEY\""
      ],
      "metadata": {
        "id": "Yvv6hf6B3RoX"
      },
      "execution_count": 3,
      "outputs": []
    },
    {
      "cell_type": "markdown",
      "source": [
        "## Data Preparation"
      ],
      "metadata": {
        "id": "72bU2gIE6Np4"
      }
    },
    {
      "cell_type": "code",
      "source": [
        "import pandas as pd\n",
        "\n",
        "data_path = \"./data/listings_1.csv\"\n",
        "\n",
        "columns = ['id', 'name', 'description', 'neighborhood_overview',\n",
        "       'picture_url', 'host_name', 'host_since', 'host_about',\n",
        "       'host_is_superhost', 'neighbourhood', 'property_type', 'room_type',\n",
        "       'accommodates', 'bathrooms', 'bedrooms', 'beds', 'amenities',\n",
        "       'price', 'minimum_nights', 'maximum_nights',\n",
        "       'review_scores_rating', 'review_scores_accuracy',\n",
        "       'review_scores_cleanliness', 'review_scores_checkin',\n",
        "       'review_scores_communication', 'review_scores_location',\n",
        "       'review_scores_value']\n",
        "\n",
        "df = pd.read_csv(data_path, usecols=columns, dtype=str, na_values=\"\")\n",
        "\n",
        "df = df.fillna(\"\")\n",
        "\n",
        "df.head()\n"
      ],
      "metadata": {
        "colab": {
          "base_uri": "https://localhost:8080/",
          "height": 698
        },
        "id": "hWmG0e5060qC",
        "outputId": "3eff8224-c0a0-49fb-cb7e-f3c2670c90e0"
      },
      "execution_count": 29,
      "outputs": [
        {
          "output_type": "execute_result",
          "data": {
            "text/plain": [
              "         id                                             name  \\\n",
              "0  30216638  Ama Hostel Bangkok  - Private Room For 8 Person   \n",
              "1  30387182  Ama Hostel Bangkok - Quadruple Room Shared Bath   \n",
              "2  35190417                       A Bit of Heaven in Bangkok   \n",
              "3  31450489                                 Warm two-bedroom   \n",
              "4  31196662                             Supalai Wellington 2   \n",
              "\n",
              "                                         description  \\\n",
              "0  Our mixed dormitory bed is comfortable and cle...   \n",
              "1  Experience Culture, Street Food, Heritage Thai...   \n",
              "2  Luxurious Condo is in Supalai Wellington on th...   \n",
              "3  The senior designer jointly designed, simple a...   \n",
              "4  Convenience location, Near many Department sto...   \n",
              "\n",
              "                               neighborhood_overview  \\\n",
              "0  Ama Hostel Bangkok is set in Bangkok, 700 m fr...   \n",
              "1  Ama Hostel Bangkok is set in Bangkok, 700 m fr...   \n",
              "2  A wide variety of art and cultural shows and p...   \n",
              "3                                                      \n",
              "4  New Central Rama 9 Department stores, Fortunes...   \n",
              "\n",
              "                                         picture_url host_name  host_since  \\\n",
              "0  https://a0.muscache.com/pictures/2856e97a-827e...     Nakun  2018-11-22   \n",
              "1  https://a0.muscache.com/pictures/9777182f-7b09...     Nakun  2018-11-22   \n",
              "2  https://a0.muscache.com/pictures/efde2ee7-bbb6...     Wilts  2016-10-17   \n",
              "3  https://a0.muscache.com/pictures/c3cb190d-84a1...   ยานนาวา  2019-01-10   \n",
              "4  https://a0.muscache.com/pictures/b78e6421-1bcf...  Sumittra  2015-02-14   \n",
              "\n",
              "  host_about host_is_superhost   neighbourhood  ...      price minimum_nights  \\\n",
              "0                            f  Samphanthawong  ...  $4,800.00              1   \n",
              "1                            f  Samphanthawong  ...  $2,800.00              1   \n",
              "2                            f     Huai Khwang  ...  $2,570.00             30   \n",
              "3                            f     Khan Na Yao  ...  $2,570.00              1   \n",
              "4                            f     Huai Khwang  ...    $890.00             30   \n",
              "\n",
              "  maximum_nights review_scores_rating review_scores_accuracy  \\\n",
              "0            365                                               \n",
              "1            365                    5                      5   \n",
              "2            365                                               \n",
              "3             30                    5                      5   \n",
              "4            120                                               \n",
              "\n",
              "  review_scores_cleanliness review_scores_checkin review_scores_communication  \\\n",
              "0                                                                               \n",
              "1                         5                     5                           4   \n",
              "2                                                                               \n",
              "3                         5                     5                           5   \n",
              "4                                                                               \n",
              "\n",
              "  review_scores_location review_scores_value  \n",
              "0                                             \n",
              "1                      4                   5  \n",
              "2                                             \n",
              "3                      5                   5  \n",
              "4                                             \n",
              "\n",
              "[5 rows x 27 columns]"
            ],
            "text/html": [
              "\n",
              "  <div id=\"df-db253865-1123-4b4b-ba36-eb1399548ca1\">\n",
              "    <div class=\"colab-df-container\">\n",
              "      <div>\n",
              "<style scoped>\n",
              "    .dataframe tbody tr th:only-of-type {\n",
              "        vertical-align: middle;\n",
              "    }\n",
              "\n",
              "    .dataframe tbody tr th {\n",
              "        vertical-align: top;\n",
              "    }\n",
              "\n",
              "    .dataframe thead th {\n",
              "        text-align: right;\n",
              "    }\n",
              "</style>\n",
              "<table border=\"1\" class=\"dataframe\">\n",
              "  <thead>\n",
              "    <tr style=\"text-align: right;\">\n",
              "      <th></th>\n",
              "      <th>id</th>\n",
              "      <th>name</th>\n",
              "      <th>description</th>\n",
              "      <th>neighborhood_overview</th>\n",
              "      <th>picture_url</th>\n",
              "      <th>host_name</th>\n",
              "      <th>host_since</th>\n",
              "      <th>host_about</th>\n",
              "      <th>host_is_superhost</th>\n",
              "      <th>neighbourhood</th>\n",
              "      <th>...</th>\n",
              "      <th>price</th>\n",
              "      <th>minimum_nights</th>\n",
              "      <th>maximum_nights</th>\n",
              "      <th>review_scores_rating</th>\n",
              "      <th>review_scores_accuracy</th>\n",
              "      <th>review_scores_cleanliness</th>\n",
              "      <th>review_scores_checkin</th>\n",
              "      <th>review_scores_communication</th>\n",
              "      <th>review_scores_location</th>\n",
              "      <th>review_scores_value</th>\n",
              "    </tr>\n",
              "  </thead>\n",
              "  <tbody>\n",
              "    <tr>\n",
              "      <th>0</th>\n",
              "      <td>30216638</td>\n",
              "      <td>Ama Hostel Bangkok  - Private Room For 8 Person</td>\n",
              "      <td>Our mixed dormitory bed is comfortable and cle...</td>\n",
              "      <td>Ama Hostel Bangkok is set in Bangkok, 700 m fr...</td>\n",
              "      <td>https://a0.muscache.com/pictures/2856e97a-827e...</td>\n",
              "      <td>Nakun</td>\n",
              "      <td>2018-11-22</td>\n",
              "      <td></td>\n",
              "      <td>f</td>\n",
              "      <td>Samphanthawong</td>\n",
              "      <td>...</td>\n",
              "      <td>$4,800.00</td>\n",
              "      <td>1</td>\n",
              "      <td>365</td>\n",
              "      <td></td>\n",
              "      <td></td>\n",
              "      <td></td>\n",
              "      <td></td>\n",
              "      <td></td>\n",
              "      <td></td>\n",
              "      <td></td>\n",
              "    </tr>\n",
              "    <tr>\n",
              "      <th>1</th>\n",
              "      <td>30387182</td>\n",
              "      <td>Ama Hostel Bangkok - Quadruple Room Shared Bath</td>\n",
              "      <td>Experience Culture, Street Food, Heritage Thai...</td>\n",
              "      <td>Ama Hostel Bangkok is set in Bangkok, 700 m fr...</td>\n",
              "      <td>https://a0.muscache.com/pictures/9777182f-7b09...</td>\n",
              "      <td>Nakun</td>\n",
              "      <td>2018-11-22</td>\n",
              "      <td></td>\n",
              "      <td>f</td>\n",
              "      <td>Samphanthawong</td>\n",
              "      <td>...</td>\n",
              "      <td>$2,800.00</td>\n",
              "      <td>1</td>\n",
              "      <td>365</td>\n",
              "      <td>5</td>\n",
              "      <td>5</td>\n",
              "      <td>5</td>\n",
              "      <td>5</td>\n",
              "      <td>4</td>\n",
              "      <td>4</td>\n",
              "      <td>5</td>\n",
              "    </tr>\n",
              "    <tr>\n",
              "      <th>2</th>\n",
              "      <td>35190417</td>\n",
              "      <td>A Bit of Heaven in Bangkok</td>\n",
              "      <td>Luxurious Condo is in Supalai Wellington on th...</td>\n",
              "      <td>A wide variety of art and cultural shows and p...</td>\n",
              "      <td>https://a0.muscache.com/pictures/efde2ee7-bbb6...</td>\n",
              "      <td>Wilts</td>\n",
              "      <td>2016-10-17</td>\n",
              "      <td></td>\n",
              "      <td>f</td>\n",
              "      <td>Huai Khwang</td>\n",
              "      <td>...</td>\n",
              "      <td>$2,570.00</td>\n",
              "      <td>30</td>\n",
              "      <td>365</td>\n",
              "      <td></td>\n",
              "      <td></td>\n",
              "      <td></td>\n",
              "      <td></td>\n",
              "      <td></td>\n",
              "      <td></td>\n",
              "      <td></td>\n",
              "    </tr>\n",
              "    <tr>\n",
              "      <th>3</th>\n",
              "      <td>31450489</td>\n",
              "      <td>Warm two-bedroom</td>\n",
              "      <td>The senior designer jointly designed, simple a...</td>\n",
              "      <td></td>\n",
              "      <td>https://a0.muscache.com/pictures/c3cb190d-84a1...</td>\n",
              "      <td>ยานนาวา</td>\n",
              "      <td>2019-01-10</td>\n",
              "      <td></td>\n",
              "      <td>f</td>\n",
              "      <td>Khan Na Yao</td>\n",
              "      <td>...</td>\n",
              "      <td>$2,570.00</td>\n",
              "      <td>1</td>\n",
              "      <td>30</td>\n",
              "      <td>5</td>\n",
              "      <td>5</td>\n",
              "      <td>5</td>\n",
              "      <td>5</td>\n",
              "      <td>5</td>\n",
              "      <td>5</td>\n",
              "      <td>5</td>\n",
              "    </tr>\n",
              "    <tr>\n",
              "      <th>4</th>\n",
              "      <td>31196662</td>\n",
              "      <td>Supalai Wellington 2</td>\n",
              "      <td>Convenience location, Near many Department sto...</td>\n",
              "      <td>New Central Rama 9 Department stores, Fortunes...</td>\n",
              "      <td>https://a0.muscache.com/pictures/b78e6421-1bcf...</td>\n",
              "      <td>Sumittra</td>\n",
              "      <td>2015-02-14</td>\n",
              "      <td></td>\n",
              "      <td>f</td>\n",
              "      <td>Huai Khwang</td>\n",
              "      <td>...</td>\n",
              "      <td>$890.00</td>\n",
              "      <td>30</td>\n",
              "      <td>120</td>\n",
              "      <td></td>\n",
              "      <td></td>\n",
              "      <td></td>\n",
              "      <td></td>\n",
              "      <td></td>\n",
              "      <td></td>\n",
              "      <td></td>\n",
              "    </tr>\n",
              "  </tbody>\n",
              "</table>\n",
              "<p>5 rows × 27 columns</p>\n",
              "</div>\n",
              "      <button class=\"colab-df-convert\" onclick=\"convertToInteractive('df-db253865-1123-4b4b-ba36-eb1399548ca1')\"\n",
              "              title=\"Convert this dataframe to an interactive table.\"\n",
              "              style=\"display:none;\">\n",
              "        \n",
              "  <svg xmlns=\"http://www.w3.org/2000/svg\" height=\"24px\"viewBox=\"0 0 24 24\"\n",
              "       width=\"24px\">\n",
              "    <path d=\"M0 0h24v24H0V0z\" fill=\"none\"/>\n",
              "    <path d=\"M18.56 5.44l.94 2.06.94-2.06 2.06-.94-2.06-.94-.94-2.06-.94 2.06-2.06.94zm-11 1L8.5 8.5l.94-2.06 2.06-.94-2.06-.94L8.5 2.5l-.94 2.06-2.06.94zm10 10l.94 2.06.94-2.06 2.06-.94-2.06-.94-.94-2.06-.94 2.06-2.06.94z\"/><path d=\"M17.41 7.96l-1.37-1.37c-.4-.4-.92-.59-1.43-.59-.52 0-1.04.2-1.43.59L10.3 9.45l-7.72 7.72c-.78.78-.78 2.05 0 2.83L4 21.41c.39.39.9.59 1.41.59.51 0 1.02-.2 1.41-.59l7.78-7.78 2.81-2.81c.8-.78.8-2.07 0-2.86zM5.41 20L4 18.59l7.72-7.72 1.47 1.35L5.41 20z\"/>\n",
              "  </svg>\n",
              "      </button>\n",
              "      \n",
              "  <style>\n",
              "    .colab-df-container {\n",
              "      display:flex;\n",
              "      flex-wrap:wrap;\n",
              "      gap: 12px;\n",
              "    }\n",
              "\n",
              "    .colab-df-convert {\n",
              "      background-color: #E8F0FE;\n",
              "      border: none;\n",
              "      border-radius: 50%;\n",
              "      cursor: pointer;\n",
              "      display: none;\n",
              "      fill: #1967D2;\n",
              "      height: 32px;\n",
              "      padding: 0 0 0 0;\n",
              "      width: 32px;\n",
              "    }\n",
              "\n",
              "    .colab-df-convert:hover {\n",
              "      background-color: #E2EBFA;\n",
              "      box-shadow: 0px 1px 2px rgba(60, 64, 67, 0.3), 0px 1px 3px 1px rgba(60, 64, 67, 0.15);\n",
              "      fill: #174EA6;\n",
              "    }\n",
              "\n",
              "    [theme=dark] .colab-df-convert {\n",
              "      background-color: #3B4455;\n",
              "      fill: #D2E3FC;\n",
              "    }\n",
              "\n",
              "    [theme=dark] .colab-df-convert:hover {\n",
              "      background-color: #434B5C;\n",
              "      box-shadow: 0px 1px 3px 1px rgba(0, 0, 0, 0.15);\n",
              "      filter: drop-shadow(0px 1px 2px rgba(0, 0, 0, 0.3));\n",
              "      fill: #FFFFFF;\n",
              "    }\n",
              "  </style>\n",
              "\n",
              "      <script>\n",
              "        const buttonEl =\n",
              "          document.querySelector('#df-db253865-1123-4b4b-ba36-eb1399548ca1 button.colab-df-convert');\n",
              "        buttonEl.style.display =\n",
              "          google.colab.kernel.accessAllowed ? 'block' : 'none';\n",
              "\n",
              "        async function convertToInteractive(key) {\n",
              "          const element = document.querySelector('#df-db253865-1123-4b4b-ba36-eb1399548ca1');\n",
              "          const dataTable =\n",
              "            await google.colab.kernel.invokeFunction('convertToInteractive',\n",
              "                                                     [key], {});\n",
              "          if (!dataTable) return;\n",
              "\n",
              "          const docLinkHtml = 'Like what you see? Visit the ' +\n",
              "            '<a target=\"_blank\" href=https://colab.research.google.com/notebooks/data_table.ipynb>data table notebook</a>'\n",
              "            + ' to learn more about interactive tables.';\n",
              "          element.innerHTML = '';\n",
              "          dataTable['output_type'] = 'display_data';\n",
              "          await google.colab.output.renderOutput(dataTable, element);\n",
              "          const docLink = document.createElement('div');\n",
              "          docLink.innerHTML = docLinkHtml;\n",
              "          element.appendChild(docLink);\n",
              "        }\n",
              "      </script>\n",
              "    </div>\n",
              "  </div>\n",
              "  "
            ]
          },
          "metadata": {},
          "execution_count": 29
        }
      ]
    },
    {
      "cell_type": "code",
      "source": [
        "df.amenities[:5]"
      ],
      "metadata": {
        "colab": {
          "base_uri": "https://localhost:8080/"
        },
        "id": "jjX60RAWA5F5",
        "outputId": "0a06a978-53d1-4cd1-c917-08d1c4366c9a"
      },
      "execution_count": 31,
      "outputs": [
        {
          "output_type": "execute_result",
          "data": {
            "text/plain": [
              "0    [\"Hair dryer\", \"Essentials\", \"Wifi\", \"Air cond...\n",
              "1    [\"TV\", \"Essentials\", \"Wifi\", \"Air conditioning...\n",
              "2    [\"TV\", \"Essentials\", \"Kitchen\", \"Hot tub\", \"Wi...\n",
              "3    [\"TV\", \"Essentials\", \"Kitchen\", \"Carbon monoxi...\n",
              "4    [\"TV\", \"Essentials\", \"Kitchen\", \"Gym\", \"Privat...\n",
              "Name: amenities, dtype: object"
            ]
          },
          "metadata": {},
          "execution_count": 31
        }
      ]
    },
    {
      "cell_type": "code",
      "source": [
        "df.info()"
      ],
      "metadata": {
        "colab": {
          "base_uri": "https://localhost:8080/"
        },
        "id": "SMj0rIn0751e",
        "outputId": "f362acc6-b613-4503-983c-027101164137"
      },
      "execution_count": 22,
      "outputs": [
        {
          "output_type": "stream",
          "name": "stdout",
          "text": [
            "<class 'pandas.core.frame.DataFrame'>\n",
            "RangeIndex: 17396 entries, 0 to 17395\n",
            "Data columns (total 27 columns):\n",
            " #   Column                       Non-Null Count  Dtype \n",
            "---  ------                       --------------  ----- \n",
            " 0   id                           17396 non-null  object\n",
            " 1   name                         17388 non-null  object\n",
            " 2   description                  16826 non-null  object\n",
            " 3   neighborhood_overview        8847 non-null   object\n",
            " 4   picture_url                  17382 non-null  object\n",
            " 5   host_name                    17392 non-null  object\n",
            " 6   host_since                   17395 non-null  object\n",
            " 7   host_about                   10337 non-null  object\n",
            " 8   host_is_superhost            17383 non-null  object\n",
            " 9   neighbourhood                17347 non-null  object\n",
            " 10  property_type                17369 non-null  object\n",
            " 11  room_type                    17386 non-null  object\n",
            " 12  accommodates                 17392 non-null  object\n",
            " 13  bathrooms                    17212 non-null  object\n",
            " 14  bedrooms                     16041 non-null  object\n",
            " 15  beds                         17032 non-null  object\n",
            " 16  amenities                    17390 non-null  object\n",
            " 17  price                        17377 non-null  object\n",
            " 18  minimum_nights               17387 non-null  object\n",
            " 19  maximum_nights               17395 non-null  object\n",
            " 20  review_scores_rating         11219 non-null  object\n",
            " 21  review_scores_accuracy       11091 non-null  object\n",
            " 22  review_scores_cleanliness    11093 non-null  object\n",
            " 23  review_scores_checkin        11092 non-null  object\n",
            " 24  review_scores_communication  11095 non-null  object\n",
            " 25  review_scores_location       11086 non-null  object\n",
            " 26  review_scores_value          11083 non-null  object\n",
            "dtypes: object(27)\n",
            "memory usage: 3.6+ MB\n"
          ]
        }
      ]
    },
    {
      "cell_type": "code",
      "source": [
        "from bs4 import BeautifulSoup\n",
        "\n",
        "def html_to_text(html):\n",
        "\n",
        "  return BeautifulSoup(html).get_text()"
      ],
      "metadata": {
        "id": "dyx7vt496RLW"
      },
      "execution_count": 34,
      "outputs": []
    },
    {
      "cell_type": "code",
      "source": [
        "df.description = df.description.apply(html_to_text)\n",
        "df.neighborhood_overview = df.neighborhood_overview.apply(html_to_text)\n",
        "\n",
        "df.description[12]"
      ],
      "metadata": {
        "colab": {
          "base_uri": "https://localhost:8080/",
          "height": 177
        },
        "id": "NdZUjsJYC7mK",
        "outputId": "864c0ea9-7a28-4ff6-fabe-07b3d4f87894"
      },
      "execution_count": 38,
      "outputs": [
        {
          "output_type": "stream",
          "name": "stderr",
          "text": [
            "<ipython-input-34-cc18447f7f5e>:5: MarkupResemblesLocatorWarning: The input looks more like a filename than markup. You may want to open this file and pass the filehandle into Beautiful Soup.\n",
            "  return BeautifulSoup(html).get_text()\n",
            "<ipython-input-34-cc18447f7f5e>:5: MarkupResemblesLocatorWarning: The input looks more like a URL than markup. You may want to use an HTTP client like requests to get the document behind the URL, and feed that document to Beautiful Soup.\n",
            "  return BeautifulSoup(html).get_text()\n"
          ]
        },
        {
          "output_type": "execute_result",
          "data": {
            "text/plain": [
              "'2 Queen bed for 2 persons.Shared bathroom is right in front of the room. Very clean and convenient.The property is a 5-minute walk to Rama 9 MRT Subway Station, Fortune Town and Central Department Store. It is 30-minute drive to Suvarnabhumi or Donmueng Airport.The spaceOur core value is to be a warmly welcomed home and to deliver great experience during your stay in Bangkok. No matter how your trip is like, once you step in our hostel, you will feel like arriving home.  We also guarantee for the clean room, comfortable bed, good location, and helpful staff.Guest access- Common area- Common kitchen- Free board game'"
            ],
            "application/vnd.google.colaboratory.intrinsic+json": {
              "type": "string"
            }
          },
          "metadata": {},
          "execution_count": 38
        }
      ]
    },
    {
      "cell_type": "code",
      "source": [
        "df.host_is_superhost = df.host_is_superhost.apply(lambda x: \"Yes\" if x==\"t\" else \"No\")\n",
        "df.host_is_superhost[100]"
      ],
      "metadata": {
        "colab": {
          "base_uri": "https://localhost:8080/",
          "height": 36
        },
        "id": "7yD5aBmXFWuS",
        "outputId": "621c8c6c-0172-4c94-fc11-5ff8137498a0"
      },
      "execution_count": 41,
      "outputs": [
        {
          "output_type": "execute_result",
          "data": {
            "text/plain": [
              "'Yes'"
            ],
            "application/vnd.google.colaboratory.intrinsic+json": {
              "type": "string"
            }
          },
          "metadata": {},
          "execution_count": 41
        }
      ]
    },
    {
      "cell_type": "code",
      "source": [
        "df.amenities = df.amenities.apply(lambda x: x.replace('[', '').replace(']', ''))\n",
        "df.amenities[:5]"
      ],
      "metadata": {
        "colab": {
          "base_uri": "https://localhost:8080/"
        },
        "id": "K3C0gkJsJ1TX",
        "outputId": "a959bc5e-83ee-4d8b-f5ef-bcb18566e1b6"
      },
      "execution_count": 45,
      "outputs": [
        {
          "output_type": "execute_result",
          "data": {
            "text/plain": [
              "0    \"Hair dryer\", \"Essentials\", \"Wifi\", \"Air condi...\n",
              "1    \"TV\", \"Essentials\", \"Wifi\", \"Air conditioning\"...\n",
              "2    \"TV\", \"Essentials\", \"Kitchen\", \"Hot tub\", \"Wif...\n",
              "3    \"TV\", \"Essentials\", \"Kitchen\", \"Carbon monoxid...\n",
              "4    \"TV\", \"Essentials\", \"Kitchen\", \"Gym\", \"Private...\n",
              "Name: amenities, dtype: object"
            ]
          },
          "metadata": {},
          "execution_count": 45
        }
      ]
    },
    {
      "cell_type": "code",
      "source": [
        "df.amenities = df.amenities.apply(lambda x: x.replace('\"', ''))\n",
        "df.amenities[:5]"
      ],
      "metadata": {
        "colab": {
          "base_uri": "https://localhost:8080/"
        },
        "id": "M04Wc-YBLiOx",
        "outputId": "e5502821-4562-4abf-8a6e-d732c6f49ef8"
      },
      "execution_count": 46,
      "outputs": [
        {
          "output_type": "execute_result",
          "data": {
            "text/plain": [
              "0    Hair dryer, Essentials, Wifi, Air conditioning...\n",
              "1    TV, Essentials, Wifi, Air conditioning, Lock o...\n",
              "2    TV, Essentials, Kitchen, Hot tub, Wifi, Gym, A...\n",
              "3    TV, Essentials, Kitchen, Carbon monoxide alarm...\n",
              "4    TV, Essentials, Kitchen, Gym, Private living r...\n",
              "Name: amenities, dtype: object"
            ]
          },
          "metadata": {},
          "execution_count": 46
        }
      ]
    },
    {
      "cell_type": "code",
      "source": [
        "df.to_csv('./data/listings_1_clean.csv', index=False)"
      ],
      "metadata": {
        "id": "hMpe3lzzL6pt"
      },
      "execution_count": 47,
      "outputs": []
    },
    {
      "cell_type": "code",
      "source": [
        "df.info()"
      ],
      "metadata": {
        "colab": {
          "base_uri": "https://localhost:8080/"
        },
        "id": "I8qzxKutU5ew",
        "outputId": "81cab060-951c-4966-d6d8-c22d93b5158c"
      },
      "execution_count": 48,
      "outputs": [
        {
          "output_type": "stream",
          "name": "stdout",
          "text": [
            "<class 'pandas.core.frame.DataFrame'>\n",
            "RangeIndex: 17396 entries, 0 to 17395\n",
            "Data columns (total 27 columns):\n",
            " #   Column                       Non-Null Count  Dtype \n",
            "---  ------                       --------------  ----- \n",
            " 0   id                           17396 non-null  object\n",
            " 1   name                         17396 non-null  object\n",
            " 2   description                  17396 non-null  object\n",
            " 3   neighborhood_overview        17396 non-null  object\n",
            " 4   picture_url                  17396 non-null  object\n",
            " 5   host_name                    17396 non-null  object\n",
            " 6   host_since                   17396 non-null  object\n",
            " 7   host_about                   17396 non-null  object\n",
            " 8   host_is_superhost            17396 non-null  object\n",
            " 9   neighbourhood                17396 non-null  object\n",
            " 10  property_type                17396 non-null  object\n",
            " 11  room_type                    17396 non-null  object\n",
            " 12  accommodates                 17396 non-null  object\n",
            " 13  bathrooms                    17396 non-null  object\n",
            " 14  bedrooms                     17396 non-null  object\n",
            " 15  beds                         17396 non-null  object\n",
            " 16  amenities                    17396 non-null  object\n",
            " 17  price                        17396 non-null  object\n",
            " 18  minimum_nights               17396 non-null  object\n",
            " 19  maximum_nights               17396 non-null  object\n",
            " 20  review_scores_rating         17396 non-null  object\n",
            " 21  review_scores_accuracy       17396 non-null  object\n",
            " 22  review_scores_cleanliness    17396 non-null  object\n",
            " 23  review_scores_checkin        17396 non-null  object\n",
            " 24  review_scores_communication  17396 non-null  object\n",
            " 25  review_scores_location       17396 non-null  object\n",
            " 26  review_scores_value          17396 non-null  object\n",
            "dtypes: object(27)\n",
            "memory usage: 3.6+ MB\n"
          ]
        }
      ]
    },
    {
      "cell_type": "markdown",
      "source": [
        "## Cohere Embeddings"
      ],
      "metadata": {
        "id": "R0yIWC3V3V4x"
      }
    },
    {
      "cell_type": "code",
      "source": [
        "from langchain.embeddings import CohereEmbeddings\n",
        "\n",
        "# model = \"embed-english-v2.0\", default (dim 4096)\n",
        "embeddings = CohereEmbeddings(model = 'small',\n",
        "                              cohere_api_key=os.environ['COHERE_API_KEY'])\n",
        "\n",
        "text = \"This is a test document.\"\n",
        "\n",
        "doc_result = embeddings.embed_documents([text])\n",
        "\n",
        "print(len(doc_result), ',', len(doc_result[0]))\n",
        "\n",
        "# query_result = embeddings.embed_query(text)"
      ],
      "metadata": {
        "colab": {
          "base_uri": "https://localhost:8080/"
        },
        "id": "PMMoKpvW3VY2",
        "outputId": "73ee0b60-c540-4647-8d8f-475ca12bcce4"
      },
      "execution_count": 4,
      "outputs": [
        {
          "output_type": "stream",
          "name": "stdout",
          "text": [
            "1 , 1024\n"
          ]
        }
      ]
    },
    {
      "cell_type": "markdown",
      "source": [
        "## Connect to Pinecone"
      ],
      "metadata": {
        "id": "_p2zr0Qm3fkz"
      }
    },
    {
      "cell_type": "code",
      "source": [
        "import pinecone\n",
        "\n",
        "# init connection to pinecone\n",
        "pinecone.init(\n",
        "    api_key=PINECONE_API_KEY,\n",
        "    environment=PINECONE_ENVIRONMENT\n",
        ")"
      ],
      "metadata": {
        "colab": {
          "base_uri": "https://localhost:8080/"
        },
        "id": "KKbfp-El3gyI",
        "outputId": "0e19ee7d-48db-491f-cbd5-de0be18e795a"
      },
      "execution_count": 5,
      "outputs": [
        {
          "output_type": "stream",
          "name": "stderr",
          "text": [
            "/usr/local/lib/python3.10/dist-packages/pinecone/index.py:4: TqdmExperimentalWarning: Using `tqdm.autonotebook.tqdm` in notebook mode. Use `tqdm.tqdm` instead to force console mode (e.g. in jupyter console)\n",
            "  from tqdm.autonotebook import tqdm\n"
          ]
        }
      ]
    },
    {
      "cell_type": "code",
      "source": [
        "# choose a name for your index\n",
        "index_name = \"airbnb-retrieval\"\n",
        "\n",
        "if index_name not in pinecone.list_indexes():\n",
        "    # create the index\n",
        "    pinecone.create_index(\n",
        "      index_name,\n",
        "      dimension=1024\n",
        "    )\n",
        "\n",
        "index = pinecone.GRPCIndex(index_name)\n",
        "index.describe_index_stats()"
      ],
      "metadata": {
        "colab": {
          "base_uri": "https://localhost:8080/"
        },
        "id": "2JepF9-13nvz",
        "outputId": "8137cc60-b1f5-4fe6-b258-86e969baa76d"
      },
      "execution_count": 6,
      "outputs": [
        {
          "output_type": "execute_result",
          "data": {
            "text/plain": [
              "{'dimension': 1024,\n",
              " 'index_fullness': 0.0,\n",
              " 'namespaces': {},\n",
              " 'total_vector_count': 0}"
            ]
          },
          "metadata": {},
          "execution_count": 6
        }
      ]
    },
    {
      "cell_type": "code",
      "source": [
        "len(df)"
      ],
      "metadata": {
        "colab": {
          "base_uri": "https://localhost:8080/"
        },
        "id": "Cn9xZM_neNle",
        "outputId": "0fcce3ca-6f7e-4298-fda0-245fae9fad92"
      },
      "execution_count": 49,
      "outputs": [
        {
          "output_type": "execute_result",
          "data": {
            "text/plain": [
              "17396"
            ]
          },
          "metadata": {},
          "execution_count": 49
        }
      ]
    },
    {
      "cell_type": "code",
      "source": [
        "df.to_dict()"
      ],
      "metadata": {
        "id": "oDgJH0tSVV4j"
      },
      "execution_count": null,
      "outputs": []
    },
    {
      "cell_type": "code",
      "source": [
        "from tqdm.auto import tqdm\n",
        "\n",
        "batch_size = 100\n",
        "\n",
        "for i in tqdm(range(0, len(df), batch_size)):\n",
        "    # find end of batch\n",
        "    i_end = min(i+batch_size, len(df))\n",
        "    # extract metadata batch\n",
        "    meta_batch = df.iloc[i:i_end]\n",
        "    meta_dict = meta_batch.to_dict(orient=\"records\")\n",
        "    # concatinate all metadata field except for id and year to form a single string\n",
        "    meta_batch = [\" \".join(x) for x in meta_batch.loc[:, ~meta_batch.columns.isin(['id'])].values.tolist()]\n",
        "    # create Cohere vectors\n",
        "    embeds = embeddings.embed_documents([text for text in meta_batch])\n",
        "    # create unique IDs\n",
        "    ids = [str(x) for x in range(i, i_end)]\n",
        "\n",
        "    upserts = []\n",
        "    # loop through the data and create dictionaries for uploading documents to pinecone index\n",
        "    for _id, dense, meta in zip(ids, embeds, meta_dict):\n",
        "        upserts.append({\n",
        "            'id': _id,\n",
        "            'values': dense,\n",
        "            'metadata': meta\n",
        "        })\n",
        "    # upload the documents to the new hybrid index\n",
        "    index.upsert(upserts)\n",
        "\n",
        "# show index description after uploading the documents\n",
        "index.describe_index_stats()"
      ],
      "metadata": {
        "colab": {
          "base_uri": "https://localhost:8080/",
          "height": 118,
          "referenced_widgets": [
            "be4b23dfb7164345bf05c8e94e64cbe9",
            "670615f4a6984f68aa19018be98d3393",
            "41f0526d9e074281bd5910205e584a34",
            "2e1425a3d9f744c8bf3a45a205b231ab",
            "2e0deaf4adc0414fac484982663cace9",
            "094ece046bd54cf4af43b2d892f64d8e",
            "a8cee3247577416cbf5d5c3ddd65661a",
            "fa1f6fb7d12645ebb26064bfd155c60c",
            "6d1af123fcf24bed95d61827e98a5cbc",
            "c88e6e476e8f4aedbd0c3e9c61993544",
            "0108265360c344a9b8e0b0d9380c98d1"
          ]
        },
        "id": "aR0xXB2EVOkN",
        "outputId": "56e5af82-d3c9-40e2-a695-d90219f76f2d"
      },
      "execution_count": 51,
      "outputs": [
        {
          "output_type": "display_data",
          "data": {
            "text/plain": [
              "  0%|          | 0/174 [00:00<?, ?it/s]"
            ],
            "application/vnd.jupyter.widget-view+json": {
              "version_major": 2,
              "version_minor": 0,
              "model_id": "be4b23dfb7164345bf05c8e94e64cbe9"
            }
          },
          "metadata": {}
        },
        {
          "output_type": "execute_result",
          "data": {
            "text/plain": [
              "{'dimension': 1024,\n",
              " 'index_fullness': 0.2,\n",
              " 'namespaces': {'': {'vector_count': 17396}},\n",
              " 'total_vector_count': 17396}"
            ]
          },
          "metadata": {},
          "execution_count": 51
        }
      ]
    },
    {
      "cell_type": "markdown",
      "source": [
        "## Creating a Vector Store and Querying"
      ],
      "metadata": {
        "id": "h4ylMd8xizeg"
      }
    },
    {
      "cell_type": "code",
      "source": [
        "from langchain.vectorstores import Pinecone\n",
        "\n",
        "text_field = \"description\"\n",
        "\n",
        "# switch back to normal index for langchain\n",
        "index = pinecone.Index(index_name)\n",
        "\n",
        "vectorstore = Pinecone(\n",
        "    index, embeddings.embed_query, text_field\n",
        ")"
      ],
      "metadata": {
        "id": "fOGtu8OYi1Ci"
      },
      "execution_count": 60,
      "outputs": []
    },
    {
      "cell_type": "code",
      "source": [
        "query = \"I am looking for room with 2 beds and private bathroom\"\n",
        "\n",
        "vectorstore.similarity_search(\n",
        "    query,  # our search query\n",
        "    k=3  # return 3 most relevant docs\n",
        ")"
      ],
      "metadata": {
        "colab": {
          "base_uri": "https://localhost:8080/"
        },
        "id": "ySzUSr-vjFCw",
        "outputId": "be03d91a-9987-44bf-e851-381d5261a25e"
      },
      "execution_count": 58,
      "outputs": [
        {
          "output_type": "execute_result",
          "data": {
            "text/plain": [
              "[Document(page_content='Hi, everybody. My house is located in Xiafei Road and is an old-fashioned apartment. I share a room with a double bed and some living items that can be used by singles or couples. The living room, bathroom and toilet are shared with me.', metadata={'accommodates': '2', 'amenities': 'TV, Essentials, Kitchen, Private living room, Lock on bedroom door, Fire extinguisher, Elevator, Pets allowed, Smoking allowed, Dryer, Hangers, Shampoo, Hair dryer', 'bathrooms': '1 shared bath', 'bedrooms': '1', 'beds': '1', 'host_about': \"Hi, everybody. I'm very glad to meet you. I like swimming and fitness and I hope to be friends with everyone.\", 'host_is_superhost': 'No', 'host_name': 'Woranuch', 'host_since': datetime.date(2018, 4, 21), 'id': '24607801', 'maximum_nights': '1125', 'minimum_nights': '1', 'name': 'Rooms Double Beds Apartment', 'neighborhood_overview': '', 'neighbourhood': 'Bang Phlat', 'picture_url': 'https://a0.muscache.com/pictures/5844169c-de81-454e-83ba-2a5ed61169cd.jpg', 'price': '$1,341.00', 'property_type': 'Private room in home', 'review_scores_accuracy': '5', 'review_scores_checkin': '5', 'review_scores_cleanliness': '5', 'review_scores_communication': '5', 'review_scores_location': '5', 'review_scores_rating': '5', 'review_scores_value': '5', 'room_type': 'Private room'}),\n",
              " Document(page_content='My place is close to public transport and the city center. You’ll love my place because of the outdoors space and the neighborhood.', metadata={'accommodates': '3', 'amenities': 'TV, Essentials, Kitchen, Self check-in, Wifi, Air conditioning, Washer, Lock on bedroom door, Paid parking on premises, Building staff, Hot water, Private entrance, Shampoo, Free street parking, Hair dryer', 'bathrooms': '1 private bath', 'bedrooms': '1', 'beds': '1', 'host_about': '', 'host_is_superhost': 'No', 'host_name': 'Tevit', 'host_since': datetime.date(2015, 8, 6), 'id': '15119249', 'maximum_nights': '1125', 'minimum_nights': '1', 'name': 'Urban Hostel - Superior Double Room (Private Bath)', 'neighborhood_overview': '', 'neighbourhood': 'Bang Rak', 'picture_url': 'https://a0.muscache.com/pictures/e045b594-778c-47d0-ab5b-9aa40c4e64cb.jpg', 'price': '$1,190.00', 'property_type': 'Private room in hostel', 'review_scores_accuracy': '', 'review_scores_checkin': '', 'review_scores_cleanliness': '', 'review_scores_communication': '', 'review_scores_location': '', 'review_scores_rating': '', 'review_scores_value': '', 'room_type': 'Private room'}),\n",
              " Document(page_content='cozy clean roomThe spacei can help you 24 hrsGuest access1 studio room on 3 floorno elevator with auto lock doorcan check in by yourself by security code. 24 hrs check inthere’re 1 double bed + 1 single bed on the foootair conditioner tv dvd player table 2 chairsmini fridge with free drinking watercoffee corner and the bathroom is in balcony free shampoo, soapfree wifiOther things to noteno shoes walking inside the roomi provide bathrom slipper for balcony only', metadata={'accommodates': '2', 'amenities': 'TV, Essentials, Self check-in, Wifi, Air conditioning, Washer, Fire extinguisher, Dryer, Shampoo, Keypad, Hair dryer', 'bathrooms': '1 bath', 'bedrooms': '', 'beds': '2', 'host_about': 'chansang apartment welcome everyone with love :)', 'host_is_superhost': 'No', 'host_name': 'Apartment', 'host_since': datetime.date(2019, 3, 16), 'id': '33103249', 'maximum_nights': '100', 'minimum_nights': '5', 'name': 'Cozy room 4 people very cheap/WiFi', 'neighborhood_overview': '3 floor no elevator', 'neighbourhood': 'Yan na wa', 'picture_url': 'https://a0.muscache.com/pictures/6b70f395-895b-4bde-a4a8-8d92e9325527.jpg', 'price': '$2,000.00', 'property_type': 'Entire rental unit', 'review_scores_accuracy': '5', 'review_scores_checkin': '5', 'review_scores_cleanliness': '5', 'review_scores_communication': '5', 'review_scores_location': '4', 'review_scores_rating': '5', 'review_scores_value': '5', 'room_type': 'Entire home/apt'})]"
            ]
          },
          "metadata": {},
          "execution_count": 58
        }
      ]
    },
    {
      "cell_type": "code",
      "source": [],
      "metadata": {
        "id": "WM96NP8kjiiO"
      },
      "execution_count": null,
      "outputs": []
    }
  ]
}